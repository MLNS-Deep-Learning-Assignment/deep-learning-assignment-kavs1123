{
 "cells": [
  {
   "cell_type": "code",
   "execution_count": 14,
   "metadata": {},
   "outputs": [],
   "source": [
    "import numpy as np\n",
    "import matplotlib.pyplot as plt\n",
    "import sys\n",
    "from sklearn.model_selection import train_test_split"
   ]
  },
  {
   "cell_type": "code",
   "execution_count": 15,
   "metadata": {},
   "outputs": [],
   "source": [
    "train_data0 = np.load('data0.npy')\n",
    "train_lab0 = np.load('lab0.npy')\n",
    "\n",
    "train_data1 = np.load('data1.npy')\n",
    "train_lab1 = np.load('lab1.npy')\n",
    "\n",
    "train_data2 = np.load('data2.npy')\n",
    "train_lab2 = np.load('lab2.npy')\n",
    "\n",
    "final_train = np.concatenate((train_data0 , train_data1 , train_data2) , axis=0)\n",
    "final_labels = np.concatenate((train_lab0,train_lab1,train_lab2), axis=0)\n",
    "\n",
    "\n",
    "\n",
    "\n",
    "X_train, X_val, y_train, y_val = train_test_split(final_train, final_labels, test_size=0.2, random_state=42)"
   ]
  },
  {
   "cell_type": "code",
   "execution_count": 16,
   "metadata": {},
   "outputs": [],
   "source": [
    "import torch\n",
    "import torch.nn as nn\n",
    "import torch.optim as optim\n",
    "from torch.utils.data import DataLoader, Dataset"
   ]
  },
  {
   "cell_type": "code",
   "execution_count": 17,
   "metadata": {},
   "outputs": [],
   "source": [
    "class MyDataset(Dataset):\n",
    "    def __init__(self, images, labels):\n",
    "        self.images = torch.FloatTensor(images.reshape(-1, 1, 40, 168)) / 255.0\n",
    "        self.labels = torch.FloatTensor(labels)\n",
    "\n",
    "    def __len__(self):\n",
    "        return len(self.images)\n",
    "    \n",
    "    def __getitem__(self, idx):\n",
    "        return self.images[idx], self.labels[idx]"
   ]
  },
  {
   "cell_type": "code",
   "execution_count": 18,
   "metadata": {},
   "outputs": [],
   "source": [
    "train_dataset = MyDataset(X_train, y_train)\n",
    "val_dataset = MyDataset(X_val, y_val)\n",
    "\n",
    "train_loader = DataLoader(train_dataset, batch_size=32, shuffle=True)\n",
    "val_loader = DataLoader(val_dataset, batch_size=32, shuffle=False)"
   ]
  },
  {
   "cell_type": "code",
   "execution_count": 19,
   "metadata": {},
   "outputs": [],
   "source": [
    "class BaselineCNN(nn.Module):\n",
    "    def __init__(self):\n",
    "        super(BaselineCNN, self).__init__()\n",
    "        self.conv_layers = nn.Sequential(\n",
    "            nn.Conv2d(1, 32, kernel_size=3,padding=1),\n",
    "            nn.ReLU(),\n",
    "            nn.MaxPool2d(2, 2),\n",
    "            nn.Conv2d(32, 64, kernel_size=3,padding=1),\n",
    "            nn.ReLU(),\n",
    "            nn.MaxPool2d(2, 2),\n",
    "        )\n",
    "        self.flatten_size = self._get_flatten_size()\n",
    "\n",
    "        self.fc_layers = nn.Sequential(\n",
    "            nn.Linear(self.flatten_size, 128),  # have to check for dimensions from conv layers\n",
    "            nn.ReLU(),\n",
    "            \n",
    "            nn.Linear(128, 1)\n",
    "        )\n",
    "\n",
    "\n",
    "    \n",
    "\n",
    "    def forward(self, x):\n",
    "        x = self.conv_layers(x)\n",
    "        x = x.view(x.size(0), -1)\n",
    "        x = self.fc_layers(x)\n",
    "        return x\n",
    "    \n",
    "    def _get_flatten_size(self):\n",
    "        \n",
    "        x = torch.randn(1, 1, 40, 168)\n",
    "        x = self.conv_layers(x)\n",
    "        return x.numel()"
   ]
  },
  {
   "cell_type": "code",
   "execution_count": 20,
   "metadata": {},
   "outputs": [
    {
     "data": {
      "text/plain": [
       "BaselineCNN(\n",
       "  (conv_layers): Sequential(\n",
       "    (0): Conv2d(1, 32, kernel_size=(3, 3), stride=(1, 1), padding=(1, 1))\n",
       "    (1): ReLU()\n",
       "    (2): MaxPool2d(kernel_size=2, stride=2, padding=0, dilation=1, ceil_mode=False)\n",
       "    (3): Conv2d(32, 64, kernel_size=(3, 3), stride=(1, 1), padding=(1, 1))\n",
       "    (4): ReLU()\n",
       "    (5): MaxPool2d(kernel_size=2, stride=2, padding=0, dilation=1, ceil_mode=False)\n",
       "  )\n",
       "  (fc_layers): Sequential(\n",
       "    (0): Linear(in_features=26880, out_features=128, bias=True)\n",
       "    (1): ReLU()\n",
       "    (2): Linear(in_features=128, out_features=1, bias=True)\n",
       "  )\n",
       ")"
      ]
     },
     "execution_count": 20,
     "metadata": {},
     "output_type": "execute_result"
    }
   ],
   "source": [
    "device = torch.device('cuda' if torch.cuda.is_available() else 'cpu')\n",
    "model = BaselineCNN()\n",
    "model.load_state_dict(torch.load('mymodel.pth', weights_only=True))\n",
    "model.to(device)"
   ]
  },
  {
   "cell_type": "code",
   "execution_count": 21,
   "metadata": {},
   "outputs": [
    {
     "name": "stdout",
     "output_type": "stream",
     "text": [
      "Prediction: 15.00, Actual: 15.00\n",
      "Prediction: 17.00, Actual: 18.00\n",
      "Prediction: 17.00, Actual: 19.00\n",
      "Prediction: 23.00, Actual: 26.00\n",
      "Prediction: 25.00, Actual: 25.00\n",
      "Prediction: 9.00, Actual: 14.00\n",
      "Prediction: 12.00, Actual: 10.00\n",
      "Prediction: 23.00, Actual: 23.00\n",
      "Prediction: 26.00, Actual: 19.00\n",
      "Prediction: 23.00, Actual: 20.00\n"
     ]
    }
   ],
   "source": [
    "model.eval()\n",
    "example_images, actual_labels = next(iter(val_loader))  \n",
    "example_images = example_images.to(device) \n",
    "\n",
    "\n",
    "predictions = model(example_images).detach().cpu().numpy()\n",
    "rounded_pred = predictions.round()\n",
    "\n",
    "\n",
    "for i in range(10): \n",
    "    print(f\"Prediction: {rounded_pred[i][0]:.2f}, Actual: {actual_labels[i].item():.2f}\")\n"
   ]
  },
  {
   "cell_type": "code",
   "execution_count": 22,
   "metadata": {},
   "outputs": [],
   "source": [
    "\n",
    "from sklearn.metrics import accuracy_score, precision_score, recall_score, f1_score, mean_squared_error\n",
    "\n",
    "def evaluate_model(model, dataloader, device):\n",
    "    \"\"\"\n",
    "    Evaluate model performance using multiple metrics\n",
    "    \"\"\"\n",
    "    model.eval()\n",
    "    all_predictions = []\n",
    "    all_labels = []\n",
    "    total_loss = 0\n",
    "    criterion = torch.nn.MSELoss()\n",
    "\n",
    "    with torch.no_grad():\n",
    "        for images, labels in dataloader:\n",
    "            images, labels = images.to(device), labels.to(device)\n",
    "            outputs = model(images)\n",
    "            \n",
    "            \n",
    "            loss = criterion(outputs.squeeze(), labels)\n",
    "            total_loss += loss.item() * images.size(0)\n",
    "            \n",
    "            \n",
    "            predictions = outputs.squeeze().cpu().numpy().round()\n",
    "            all_predictions.extend(predictions)\n",
    "            all_labels.extend(labels.cpu().numpy())\n",
    "\n",
    "    \n",
    "    all_predictions = np.array(all_predictions)\n",
    "    all_labels = np.array(all_labels)\n",
    "    \n",
    "    \n",
    "    avg_mse = total_loss / len(dataloader.dataset)\n",
    "    rmse = np.sqrt(avg_mse)\n",
    "\n",
    "   \n",
    "    mae = np.mean(np.abs(all_predictions - all_labels))\n",
    "    \n",
    "    \n",
    "    accuracy = np.mean(all_predictions == all_labels)\n",
    "    \n",
    "    \n",
    "    within_one_accuracy = np.mean(np.abs(all_predictions - all_labels) <= 1)\n",
    "\n",
    "    metrics = {\n",
    "        \"mse\": avg_mse,\n",
    "        \"rmse\": rmse,\n",
    "        \"mae\": mae,\n",
    "        \"exact_accuracy\": accuracy * 100,\n",
    "        \"within_one_accuracy\": within_one_accuracy * 100\n",
    "    }\n",
    "    \n",
    "    print(metrics)"
   ]
  },
  {
   "cell_type": "code",
   "execution_count": 23,
   "metadata": {},
   "outputs": [
    {
     "name": "stdout",
     "output_type": "stream",
     "text": [
      "{'mse': 0.5587150933742523, 'rmse': 0.7474724699774917, 'mae': 0.5359167, 'exact_accuracy': 51.35833333333333, 'within_one_accuracy': 95.37916666666668}\n"
     ]
    }
   ],
   "source": [
    "evaluate_model(model,train_loader,device)"
   ]
  },
  {
   "cell_type": "code",
   "execution_count": 24,
   "metadata": {},
   "outputs": [
    {
     "name": "stdout",
     "output_type": "stream",
     "text": [
      "{'mse': 12.220009432474772, 'rmse': 3.495713007738875, 'mae': 2.7468333, 'exact_accuracy': 12.0, 'within_one_accuracy': 34.46666666666667}\n"
     ]
    }
   ],
   "source": [
    "evaluate_model(model , val_loader , device)"
   ]
  }
 ],
 "metadata": {
  "kernelspec": {
   "display_name": "Python 3",
   "language": "python",
   "name": "python3"
  },
  "language_info": {
   "codemirror_mode": {
    "name": "ipython",
    "version": 3
   },
   "file_extension": ".py",
   "mimetype": "text/x-python",
   "name": "python",
   "nbconvert_exporter": "python",
   "pygments_lexer": "ipython3",
   "version": "3.12.4"
  }
 },
 "nbformat": 4,
 "nbformat_minor": 2
}
