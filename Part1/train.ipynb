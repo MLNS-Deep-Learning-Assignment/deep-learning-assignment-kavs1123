{
 "cells": [
  {
   "cell_type": "code",
   "execution_count": 1,
   "metadata": {},
   "outputs": [],
   "source": [
    "import numpy as np\n",
    "import matplotlib.pyplot as plt\n",
    "import sys\n",
    "from sklearn.model_selection import train_test_split"
   ]
  },
  {
   "cell_type": "code",
   "execution_count": 2,
   "metadata": {},
   "outputs": [],
   "source": [
    "train_data0 = np.load('data0.npy')\n",
    "train_lab0 = np.load('lab0.npy')\n",
    "\n",
    "train_data1 = np.load('data1.npy')\n",
    "train_lab1 = np.load('lab1.npy')\n",
    "\n",
    "train_data2 = np.load('data2.npy')\n",
    "train_lab2 = np.load('lab2.npy')\n",
    "\n",
    "final_train = np.concatenate((train_data0 , train_data1 , train_data2) , axis=0)\n",
    "final_labels = np.concatenate((train_lab0,train_lab1,train_lab2), axis=0)\n",
    "\n",
    "\n",
    "\n",
    "\n",
    "X_train, X_val, y_train, y_val = train_test_split(final_train, final_labels, test_size=0.2, random_state=42)"
   ]
  },
  {
   "cell_type": "code",
   "execution_count": 3,
   "metadata": {},
   "outputs": [],
   "source": [
    "import torch\n",
    "import torch.nn as nn\n",
    "import torch.optim as optim\n",
    "from torch.utils.data import DataLoader, Dataset"
   ]
  },
  {
   "cell_type": "code",
   "execution_count": 4,
   "metadata": {},
   "outputs": [],
   "source": [
    "class MyDataset(Dataset):\n",
    "    def __init__(self, images, labels):\n",
    "        self.images = torch.FloatTensor(images.reshape(-1, 1, 40, 168)) / 255.0\n",
    "        self.labels = torch.FloatTensor(labels)\n",
    "\n",
    "    def __len__(self):\n",
    "        return len(self.images)\n",
    "    \n",
    "    def __getitem__(self, idx):\n",
    "        return self.images[idx], self.labels[idx]"
   ]
  },
  {
   "cell_type": "code",
   "execution_count": 5,
   "metadata": {},
   "outputs": [],
   "source": [
    "train_dataset = MyDataset(X_train, y_train)\n",
    "val_dataset = MyDataset(X_val, y_val)\n",
    "\n",
    "train_loader = DataLoader(train_dataset, batch_size=32, shuffle=True)\n",
    "val_loader = DataLoader(val_dataset, batch_size=32, shuffle=False)"
   ]
  },
  {
   "cell_type": "code",
   "execution_count": 6,
   "metadata": {},
   "outputs": [],
   "source": [
    "class BaselineCNN(nn.Module):\n",
    "    def __init__(self):\n",
    "        super(BaselineCNN, self).__init__()\n",
    "        self.conv_layers = nn.Sequential(\n",
    "            nn.Conv2d(1, 32, kernel_size=3,padding=1),\n",
    "            nn.ReLU(),\n",
    "            nn.MaxPool2d(2, 2),\n",
    "            nn.Conv2d(32, 64, kernel_size=3,padding=1),\n",
    "            nn.ReLU(),\n",
    "            nn.MaxPool2d(2, 2),\n",
    "        )\n",
    "        self.flatten_size = self._get_flatten_size()\n",
    "\n",
    "        self.fc_layers = nn.Sequential(\n",
    "            nn.Linear(self.flatten_size, 128),  # have to check for dimensions from conv layers\n",
    "            nn.ReLU(),\n",
    "            \n",
    "            nn.Linear(128, 1)\n",
    "        )\n",
    "\n",
    "\n",
    "    \n",
    "\n",
    "    def forward(self, x):\n",
    "        x = self.conv_layers(x)\n",
    "        x = x.view(x.size(0), -1)\n",
    "        x = self.fc_layers(x)\n",
    "        return x\n",
    "    \n",
    "    def _get_flatten_size(self):\n",
    "        \n",
    "        x = torch.randn(1, 1, 40, 168)\n",
    "        x = self.conv_layers(x)\n",
    "        return x.numel()\n",
    "\n",
    "\n",
    "    # used the above function to get the dimension to put in the fc layers\n",
    "\n",
    "\n",
    "\n",
    "\n"
   ]
  },
  {
   "cell_type": "code",
   "execution_count": 7,
   "metadata": {},
   "outputs": [],
   "source": [
    "def train_model(model, train_loader, val_loader, criterion, optimizer, device , epochs=10):\n",
    "    device = torch.device('cuda' if torch.cuda.is_available() else 'cpu')\n",
    "    model = model.to(device)\n",
    "    for epoch in range(epochs):\n",
    "        model.train()\n",
    "        train_loss = 0.0\n",
    "        for images, labels in train_loader:\n",
    "            images, labels = images.to(device), labels.to(device)\n",
    "            optimizer.zero_grad()\n",
    "            outputs = model(images)\n",
    "            loss = criterion(outputs.squeeze(), labels)\n",
    "            loss.backward()\n",
    "            optimizer.step()            \n",
    "            train_loss += loss.item() * images.size(0)\n",
    "\n",
    "        train_loss /= len(train_loader.dataset)\n",
    "\n",
    "        \n",
    "        model.eval()\n",
    "        val_loss = 0.0\n",
    "        with torch.no_grad():\n",
    "            for images, labels in val_loader:\n",
    "                images, labels = images.to(device), labels.to(device)\n",
    "                outputs = model(images)\n",
    "                loss = criterion(outputs.squeeze(), labels)\n",
    "                val_loss += loss.item() * images.size(0)\n",
    "        val_loss /= len(val_loader.dataset)\n",
    "\n",
    "        print(f\"Epoch {epoch + 1}/{epochs}, Train Loss: {train_loss:.4f}, Val Loss: {val_loss:.4f}\")\n",
    "\n",
    "\n"
   ]
  },
  {
   "cell_type": "code",
   "execution_count": 8,
   "metadata": {},
   "outputs": [],
   "source": [
    "model = BaselineCNN()\n",
    "criterion = nn.MSELoss()  \n",
    "optimizer = optim.Adam(model.parameters(), lr=0.001)\n",
    "device = torch.device('cuda' if torch.cuda.is_available() else 'cpu')"
   ]
  },
  {
   "cell_type": "code",
   "execution_count": 9,
   "metadata": {},
   "outputs": [
    {
     "name": "stdout",
     "output_type": "stream",
     "text": [
      "Epoch 1/25, Train Loss: 29.2277, Val Loss: 19.5779\n",
      "Epoch 2/25, Train Loss: 18.7371, Val Loss: 15.7543\n",
      "Epoch 3/25, Train Loss: 13.5813, Val Loss: 13.5064\n",
      "Epoch 4/25, Train Loss: 11.1815, Val Loss: 12.0491\n",
      "Epoch 5/25, Train Loss: 9.6474, Val Loss: 10.6231\n",
      "Epoch 6/25, Train Loss: 8.4935, Val Loss: 11.7011\n",
      "Epoch 7/25, Train Loss: 7.4176, Val Loss: 10.3683\n",
      "Epoch 8/25, Train Loss: 6.2711, Val Loss: 10.3242\n",
      "Epoch 9/25, Train Loss: 5.1426, Val Loss: 12.2667\n",
      "Epoch 10/25, Train Loss: 4.2357, Val Loss: 11.7438\n",
      "Epoch 11/25, Train Loss: 3.3875, Val Loss: 10.8554\n",
      "Epoch 12/25, Train Loss: 2.8062, Val Loss: 11.5806\n",
      "Epoch 13/25, Train Loss: 2.1337, Val Loss: 11.2999\n",
      "Epoch 14/25, Train Loss: 1.7141, Val Loss: 11.7414\n",
      "Epoch 15/25, Train Loss: 1.4720, Val Loss: 11.8763\n",
      "Epoch 16/25, Train Loss: 1.2141, Val Loss: 11.7956\n",
      "Epoch 17/25, Train Loss: 1.0427, Val Loss: 12.1995\n",
      "Epoch 18/25, Train Loss: 0.9531, Val Loss: 12.4429\n",
      "Epoch 19/25, Train Loss: 0.8774, Val Loss: 12.2605\n",
      "Epoch 20/25, Train Loss: 0.7668, Val Loss: 12.1289\n",
      "Epoch 21/25, Train Loss: 0.6993, Val Loss: 12.3607\n",
      "Epoch 22/25, Train Loss: 0.6925, Val Loss: 12.2300\n",
      "Epoch 23/25, Train Loss: 0.6320, Val Loss: 12.2260\n",
      "Epoch 24/25, Train Loss: 0.5990, Val Loss: 12.1097\n",
      "Epoch 25/25, Train Loss: 0.5813, Val Loss: 12.2200\n"
     ]
    }
   ],
   "source": [
    "train_model(model, train_loader, val_loader, criterion, optimizer, device , epochs=25)\n",
    "torch.save(model.state_dict(), 'mymodel.pth')\n",
    "\n"
   ]
  }
 ],
 "metadata": {
  "kernelspec": {
   "display_name": "Python 3",
   "language": "python",
   "name": "python3"
  },
  "language_info": {
   "codemirror_mode": {
    "name": "ipython",
    "version": 3
   },
   "file_extension": ".py",
   "mimetype": "text/x-python",
   "name": "python",
   "nbconvert_exporter": "python",
   "pygments_lexer": "ipython3",
   "version": "3.12.4"
  }
 },
 "nbformat": 4,
 "nbformat_minor": 2
}
